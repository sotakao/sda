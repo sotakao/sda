{
 "cells": [
  {
   "cell_type": "code",
   "execution_count": 2,
   "id": "a0644120-de1e-4a63-b85f-9cc10605b9ed",
   "metadata": {},
   "outputs": [
    {
     "name": "stdout",
     "output_type": "stream",
     "text": [
      "Using device: cuda\n"
     ]
    }
   ],
   "source": [
    "import os\n",
    "import matplotlib.pyplot as plt\n",
    "\n",
    "from sda.mcs import *\n",
    "from sda.score import *\n",
    "from sda.utils import *\n",
    "\n",
    "from experiments.kolmogorov.utils import *\n",
    "from tqdm import tqdm\n",
    "\n",
    "from torch.utils.data import Dataset, DataLoader\n",
    "from netCDF4 import Dataset as NetCDFDataset\n",
    "\n",
    "device = \"cuda\" if torch.cuda.is_available() else \"cpu\"\n",
    "print(f\"Using device: {device}\")\n",
    "\n",
    "OBS_FNS = {\n",
    "        'linear': lambda x: x,\n",
    "        'arctan': lambda x: torch.arctan(x),\n",
    "        'arctan15': lambda x: 15*torch.arctan(x),\n",
    "        'arctan_scaled': lambda x: 15*torch.arctan(x/7),\n",
    "        'abs': lambda x: torch.abs(x),\n",
    "        'square': lambda x: torch.square(x),\n",
    "        'square_scaled': lambda x: torch.square(x/7),\n",
    "        'exp': lambda x: torch.exp(x),\n",
    "        'exp_scaled': lambda x: torch.exp(x/7),\n",
    "        'log_abs_scaled': lambda x: 6*torch.log(torch.abs(x)+0.1),\n",
    "        'sin': lambda x: torch.sin(x),\n",
    "        'sin_scaled': lambda x: 20*torch.sin(x/3),\n",
    "    }\n"
   ]
  },
  {
   "cell_type": "code",
   "execution_count": 3,
   "id": "764370a1-661e-4edc-b9c4-cecde06edfd1",
   "metadata": {},
   "outputs": [],
   "source": [
    "class TrajectoryDataset(Dataset):\n",
    "    def __init__(\n",
    "        self,\n",
    "        file: Path,\n",
    "        window: int = None,\n",
    "        flatten: bool = False,\n",
    "        normalize: float = True,\n",
    "        mean: float = None,\n",
    "        std: float = None\n",
    "    ):\n",
    "        super().__init__()\n",
    "\n",
    "        with h5py.File(file, mode='r') as f:\n",
    "            self.data = f['x'][:]\n",
    "\n",
    "        self.window = window\n",
    "        self.flatten = flatten\n",
    "        self.normalize = normalize\n",
    "        self.mean = self.data.mean() if mean is None else mean\n",
    "        self.std = self.data.std() if mean is None else std\n",
    "\n",
    "    def __len__(self) -> int:\n",
    "        return len(self.data)\n",
    "\n",
    "    def __getitem__(self, i: int) -> Tuple[Tensor, Dict]:\n",
    "        x = torch.from_numpy(self.data[i])\n",
    "\n",
    "        if self.normalize:\n",
    "            x = (x - self.mean) / self.std\n",
    "\n",
    "        if self.window is not None:\n",
    "            i = torch.randint(0, len(x) - self.window + 1, size=())\n",
    "            x = torch.narrow(x, dim=0, start=i, length=self.window)\n",
    "\n",
    "        if self.flatten:\n",
    "            return x.flatten(0, 1), {}\n",
    "        else:\n",
    "            return x, {}"
   ]
  },
  {
   "cell_type": "code",
   "execution_count": 4,
   "id": "ef188aeb-97f0-456f-b573-7256e47d060e",
   "metadata": {},
   "outputs": [],
   "source": [
    "window = 5\n",
    "\n",
    "CONFIG = {\n",
    "    # Architecture\n",
    "    'window': window,\n",
    "    'embedding': 64,\n",
    "    'hidden_channels': (96, 192, 384),\n",
    "    'hidden_blocks': (3, 3, 3),\n",
    "    'kernel_size': 3,\n",
    "    'activation': 'SiLU',\n",
    "    # Training\n",
    "    'epochs': 1000,\n",
    "    'batch_size': 32,\n",
    "    'optimizer': 'AdamW',\n",
    "    'learning_rate': 2e-4,\n",
    "    'weight_decay': 1e-3,\n",
    "    'scheduler': 'cosine',\n",
    "}"
   ]
  },
  {
   "cell_type": "code",
   "execution_count": 5,
   "id": "af3b8122-cb2a-4975-9bbe-a1a766b5ed18",
   "metadata": {},
   "outputs": [
    {
     "data": {
      "text/plain": [
       "<All keys matched successfully>"
      ]
     },
     "execution_count": 5,
     "metadata": {},
     "output_type": "execute_result"
    }
   ],
   "source": [
    "out_root = Path(\"./runs_sqg\")      # output root (you can change)\n",
    "out_root.mkdir(parents=True, exist_ok=True)\n",
    "\n",
    "exp_name = f\"mcscore_vpsde_sqg_window_{window}\"\n",
    "run_dir  = out_root / exp_name\n",
    "ckpt_dir = run_dir / \"checkpoints\"\n",
    "fig_dir  = run_dir / \"figures\"\n",
    "hist_dir = run_dir / \"history\"\n",
    "\n",
    "score = make_score(**CONFIG)\n",
    "sde = VPSDE(score.kernel, shape=(CONFIG['window']*2, 64, 64))\n",
    "sde = sde.to(device)\n",
    "\n",
    "files = sorted(ckpt_dir.glob(\"epoch_*.pt\"))\n",
    "path = files[-1]\n",
    "payload = torch.load(path, map_location=device)\n",
    "score.load_state_dict(payload[\"score_state\"])\n",
    "sde.load_state_dict(payload[\"sde_state\"])"
   ]
  },
  {
   "cell_type": "code",
   "execution_count": 165,
   "id": "6089c6d3-200f-4afe-9165-16e3dbc895fb",
   "metadata": {},
   "outputs": [],
   "source": [
    "nx = 64\n",
    "ny = 64\n",
    "\n",
    "ARGS = {\n",
    "    # Guidance\n",
    "    'obs_type': 'random', # 'grid' or 'random'\n",
    "    'obs_stride': 4, # applicable for obs_type=grid\n",
    "    'obs_pct': 0.25, # observation percentage (applicable for obs_type=random)\n",
    "    'obs_fn': 'exp_scaled',\n",
    "    'obs_sigma': 1.0,\n",
    "    'n_ens': 20,\n",
    "    'assim_window': 100,\n",
    "    'guidance_method': 'vanilla'\n",
    "}\n",
    "\n",
    "if ARGS['obs_type'] == 'grid':\n",
    "    stride = int(ARGS.get('obs_stride', 4))\n",
    "    grid2d = torch.zeros(nx, ny, device=device)\n",
    "    grid2d[::stride, ::stride] = 1.0\n",
    "    obs_mask = grid2d.flatten()\n",
    "    obs_mask = obs_mask.unsqueeze(0).view(1, nx, ny)\n",
    "elif ARGS['obs_type'] == 'random':\n",
    "    rsobs = np.random.RandomState(42) # fixed seed for observations\n",
    "    nobs = int(nx*ny*ARGS['obs_pct'])\n",
    "    indxob = np.sort(rsobs.choice(nx*ny, nobs, replace=False))\n",
    "    \n",
    "    sparse_index = torch.zeros(nx*ny, dtype=torch.bool, device=device)\n",
    "    sparse_index[indxob] = True\n",
    "    \n",
    "    obs_mask = torch.ones(1, nx*ny, device=device)\n",
    "    obs_mask[:, ~sparse_index] = 0\n",
    "    obs_mask = obs_mask.view((nx, ny))\n",
    "else:\n",
    "    raise NotImplementedError\n",
    "\n",
    "# if ARGS['obs_fn'] == 'linear':\n",
    "#     obs_fn = lambda x: x\n",
    "# elif ARGS['obs_fn'] == 'arctan':\n",
    "#     obs_fn = lambda x: torch.atan(x)\n",
    "# else:\n",
    "#     raise NotImplementedError\n",
    "\n",
    "obs_fn = OBS_FNS[ARGS['obs_fn']]\n"
   ]
  },
  {
   "cell_type": "code",
   "execution_count": 166,
   "id": "467dacf4-7795-47f5-a77e-43e71525a1af",
   "metadata": {},
   "outputs": [],
   "source": [
    "cond_window = 6\n",
    "\n",
    "def A(x):\n",
    "    return obs_fn(x) * obs_mask\n",
    "\n",
    "test_dir = \"/resnick/groups/astuart/sotakao/score-based-ensemble-filter/EnSFInpainting/data/test/\"\n",
    "fname = \"sqg_N64_3hrly_100.nc\"\n",
    "\n",
    "nc_truth = NetCDFDataset(os.path.join(test_dir, fname), 'r')\n",
    "pv_truth_nc = nc_truth.variables['pv']  # (T, 2, ny, nx)\n",
    "T, Z, ny, nx = pv_truth_nc.shape\n",
    "pv_truth = torch.tensor(np.array(pv_truth_nc[:min(T, cond_window), ...]), dtype=torch.float32, device=device)\n",
    "scalefact = nc_truth.f * nc_truth.theta0 / nc_truth.g\n",
    "nc_truth.close()"
   ]
  },
  {
   "cell_type": "code",
   "execution_count": 167,
   "id": "e203e3b0-903d-4cb5-b801-3330030cd4f8",
   "metadata": {},
   "outputs": [],
   "source": [
    "train_std = 2672.232\n",
    "scale = train_std * scalefact"
   ]
  },
  {
   "cell_type": "code",
   "execution_count": 168,
   "id": "d307fb5b-3f04-4ee6-beb7-a24c09043871",
   "metadata": {},
   "outputs": [],
   "source": [
    "noise = torch.randn_like(pv_truth) * ARGS['obs_sigma']\n",
    "y = scalefact*pv_truth*obs_mask.unsqueeze(0) + noise*obs_mask.unsqueeze(0)"
   ]
  },
  {
   "cell_type": "code",
   "execution_count": 177,
   "id": "e632274e-2789-4f00-8a28-82e607031c54",
   "metadata": {},
   "outputs": [
    {
     "name": "stderr",
     "output_type": "stream",
     "text": [
      "  0%|                                                           | 0/500 [00:00<?, ?it/s]\n"
     ]
    },
    {
     "ename": "RuntimeError",
     "evalue": "grad can be implicitly created only for scalar outputs",
     "output_type": "error",
     "traceback": [
      "\u001b[0;31m---------------------------------------------------------------------------\u001b[0m",
      "\u001b[0;31mRuntimeError\u001b[0m                              Traceback (most recent call last)",
      "Cell \u001b[0;32mIn[177], line 17\u001b[0m\n\u001b[1;32m      1\u001b[0m score_scaled \u001b[38;5;241m=\u001b[39m \u001b[38;5;28;01mlambda\u001b[39;00m x, t, c: score(x\u001b[38;5;241m/\u001b[39mscale, t, c)\n\u001b[1;32m      3\u001b[0m guided_sde \u001b[38;5;241m=\u001b[39m ScaledVPSDE(\n\u001b[1;32m      4\u001b[0m                 DPSGaussianScore(\n\u001b[1;32m      5\u001b[0m                     y,\n\u001b[0;32m   (...)\u001b[0m\n\u001b[1;32m     14\u001b[0m                 scale\u001b[38;5;241m=\u001b[39mscale,\n\u001b[1;32m     15\u001b[0m             )\u001b[38;5;241m.\u001b[39mcuda()\n\u001b[0;32m---> 17\u001b[0m posterior_samples \u001b[38;5;241m=\u001b[39m \u001b[43mguided_sde\u001b[49m\u001b[38;5;241;43m.\u001b[39;49m\u001b[43msample\u001b[49m\u001b[43m(\u001b[49m\u001b[43m(\u001b[49m\u001b[43mARGS\u001b[49m\u001b[43m[\u001b[49m\u001b[38;5;124;43m'\u001b[39;49m\u001b[38;5;124;43mn_ens\u001b[39;49m\u001b[38;5;124;43m'\u001b[39;49m\u001b[43m]\u001b[49m\u001b[43m,\u001b[49m\u001b[43m)\u001b[49m\u001b[43m,\u001b[49m\n\u001b[1;32m     18\u001b[0m \u001b[43m                                      \u001b[49m\u001b[43msteps\u001b[49m\u001b[38;5;241;43m=\u001b[39;49m\u001b[38;5;241;43m500\u001b[39;49m\u001b[43m,\u001b[49m\n\u001b[1;32m     19\u001b[0m \u001b[43m                                      \u001b[49m\u001b[43mcorrections\u001b[49m\u001b[38;5;241;43m=\u001b[39;49m\u001b[38;5;241;43m0\u001b[39;49m\u001b[43m,\u001b[49m\n\u001b[1;32m     20\u001b[0m \u001b[43m                                      \u001b[49m\u001b[43mtau\u001b[49m\u001b[38;5;241;43m=\u001b[39;49m\u001b[38;5;241;43m0.5\u001b[39;49m\u001b[43m)\u001b[49m\u001b[38;5;241m.\u001b[39mcpu()\n",
      "File \u001b[0;32m/resnick/groups/astuart/sotakao/score-based-ensemble-filter/sda/sda/score.py:370\u001b[0m, in \u001b[0;36mScaledVPSDE.sample\u001b[0;34m(self, shape, c, steps, corrections, tau)\u001b[0m\n\u001b[1;32m    367\u001b[0m \u001b[38;5;28;01mfor\u001b[39;00m t \u001b[38;5;129;01min\u001b[39;00m tqdm(time[:\u001b[38;5;241m-\u001b[39m\u001b[38;5;241m1\u001b[39m], ncols\u001b[38;5;241m=\u001b[39m\u001b[38;5;241m88\u001b[39m):\n\u001b[1;32m    368\u001b[0m     \u001b[38;5;66;03m# Predictor\u001b[39;00m\n\u001b[1;32m    369\u001b[0m     r \u001b[38;5;241m=\u001b[39m \u001b[38;5;28mself\u001b[39m\u001b[38;5;241m.\u001b[39mmu(t \u001b[38;5;241m-\u001b[39m dt) \u001b[38;5;241m/\u001b[39m \u001b[38;5;28mself\u001b[39m\u001b[38;5;241m.\u001b[39mmu(t)\n\u001b[0;32m--> 370\u001b[0m     x \u001b[38;5;241m=\u001b[39m r \u001b[38;5;241m*\u001b[39m x \u001b[38;5;241m+\u001b[39m (\u001b[38;5;28mself\u001b[39m\u001b[38;5;241m.\u001b[39msigma(t \u001b[38;5;241m-\u001b[39m dt) \u001b[38;5;241m-\u001b[39m r \u001b[38;5;241m*\u001b[39m \u001b[38;5;28mself\u001b[39m\u001b[38;5;241m.\u001b[39msigma(t)) \u001b[38;5;241m*\u001b[39m \u001b[38;5;28;43mself\u001b[39;49m\u001b[38;5;241;43m.\u001b[39;49m\u001b[43meps\u001b[49m\u001b[43m(\u001b[49m\u001b[43mx\u001b[49m\u001b[43m,\u001b[49m\u001b[43m \u001b[49m\u001b[43mt\u001b[49m\u001b[43m,\u001b[49m\u001b[43m \u001b[49m\u001b[43mc\u001b[49m\u001b[43m)\u001b[49m\n\u001b[1;32m    372\u001b[0m     \u001b[38;5;66;03m# Corrector\u001b[39;00m\n\u001b[1;32m    373\u001b[0m     \u001b[38;5;28;01mfor\u001b[39;00m _ \u001b[38;5;129;01min\u001b[39;00m \u001b[38;5;28mrange\u001b[39m(corrections):\n",
      "File \u001b[0;32m/groups/astuart/sotakao/miniconda3/envs/sda/lib/python3.9/site-packages/torch/nn/modules/module.py:1194\u001b[0m, in \u001b[0;36mModule._call_impl\u001b[0;34m(self, *input, **kwargs)\u001b[0m\n\u001b[1;32m   1190\u001b[0m \u001b[38;5;66;03m# If we don't have any hooks, we want to skip the rest of the logic in\u001b[39;00m\n\u001b[1;32m   1191\u001b[0m \u001b[38;5;66;03m# this function, and just call forward.\u001b[39;00m\n\u001b[1;32m   1192\u001b[0m \u001b[38;5;28;01mif\u001b[39;00m \u001b[38;5;129;01mnot\u001b[39;00m (\u001b[38;5;28mself\u001b[39m\u001b[38;5;241m.\u001b[39m_backward_hooks \u001b[38;5;129;01mor\u001b[39;00m \u001b[38;5;28mself\u001b[39m\u001b[38;5;241m.\u001b[39m_forward_hooks \u001b[38;5;129;01mor\u001b[39;00m \u001b[38;5;28mself\u001b[39m\u001b[38;5;241m.\u001b[39m_forward_pre_hooks \u001b[38;5;129;01mor\u001b[39;00m _global_backward_hooks\n\u001b[1;32m   1193\u001b[0m         \u001b[38;5;129;01mor\u001b[39;00m _global_forward_hooks \u001b[38;5;129;01mor\u001b[39;00m _global_forward_pre_hooks):\n\u001b[0;32m-> 1194\u001b[0m     \u001b[38;5;28;01mreturn\u001b[39;00m \u001b[43mforward_call\u001b[49m\u001b[43m(\u001b[49m\u001b[38;5;241;43m*\u001b[39;49m\u001b[38;5;28;43minput\u001b[39;49m\u001b[43m,\u001b[49m\u001b[43m \u001b[49m\u001b[38;5;241;43m*\u001b[39;49m\u001b[38;5;241;43m*\u001b[39;49m\u001b[43mkwargs\u001b[49m\u001b[43m)\u001b[49m\n\u001b[1;32m   1195\u001b[0m \u001b[38;5;66;03m# Do not call functions when jit is used\u001b[39;00m\n\u001b[1;32m   1196\u001b[0m full_backward_hooks, non_full_backward_hooks \u001b[38;5;241m=\u001b[39m [], []\n",
      "File \u001b[0;32m/resnick/groups/astuart/sotakao/score-based-ensemble-filter/sda/sda/score.py:575\u001b[0m, in \u001b[0;36mDPSGaussianScore.forward\u001b[0;34m(self, x, t, c)\u001b[0m\n\u001b[1;32m    572\u001b[0m     \u001b[38;5;28;01melse\u001b[39;00m:\n\u001b[1;32m    573\u001b[0m         log_p \u001b[38;5;241m=\u001b[39m \u001b[38;5;241m-\u001b[39m(err \u001b[38;5;241m*\u001b[39m\u001b[38;5;241m*\u001b[39m \u001b[38;5;241m2\u001b[39m \u001b[38;5;241m/\u001b[39m var)\u001b[38;5;241m.\u001b[39msum() \u001b[38;5;241m/\u001b[39m \u001b[38;5;241m2\u001b[39m\n\u001b[0;32m--> 575\u001b[0m s, \u001b[38;5;241m=\u001b[39m \u001b[43mtorch\u001b[49m\u001b[38;5;241;43m.\u001b[39;49m\u001b[43mautograd\u001b[49m\u001b[38;5;241;43m.\u001b[39;49m\u001b[43mgrad\u001b[49m\u001b[43m(\u001b[49m\u001b[43mlog_p\u001b[49m\u001b[43m,\u001b[49m\u001b[43m \u001b[49m\u001b[43mx\u001b[49m\u001b[43m)\u001b[49m\n\u001b[1;32m    577\u001b[0m \u001b[38;5;28;01mreturn\u001b[39;00m eps \u001b[38;5;241m-\u001b[39m \u001b[38;5;28mself\u001b[39m\u001b[38;5;241m.\u001b[39mguidance_strength \u001b[38;5;241m*\u001b[39m sigma \u001b[38;5;241m*\u001b[39m s\n",
      "File \u001b[0;32m/groups/astuart/sotakao/miniconda3/envs/sda/lib/python3.9/site-packages/torch/autograd/__init__.py:285\u001b[0m, in \u001b[0;36mgrad\u001b[0;34m(outputs, inputs, grad_outputs, retain_graph, create_graph, only_inputs, allow_unused, is_grads_batched)\u001b[0m\n\u001b[1;32m    280\u001b[0m     warnings\u001b[38;5;241m.\u001b[39mwarn(\u001b[38;5;124m\"\u001b[39m\u001b[38;5;124monly_inputs argument is deprecated and is ignored now \u001b[39m\u001b[38;5;124m\"\u001b[39m\n\u001b[1;32m    281\u001b[0m                   \u001b[38;5;124m\"\u001b[39m\u001b[38;5;124m(defaults to True). To accumulate gradient for other \u001b[39m\u001b[38;5;124m\"\u001b[39m\n\u001b[1;32m    282\u001b[0m                   \u001b[38;5;124m\"\u001b[39m\u001b[38;5;124mparts of the graph, please use torch.autograd.backward.\u001b[39m\u001b[38;5;124m\"\u001b[39m)\n\u001b[1;32m    284\u001b[0m grad_outputs_ \u001b[38;5;241m=\u001b[39m _tensor_or_tensors_to_tuple(grad_outputs, \u001b[38;5;28mlen\u001b[39m(t_outputs))\n\u001b[0;32m--> 285\u001b[0m grad_outputs_ \u001b[38;5;241m=\u001b[39m \u001b[43m_make_grads\u001b[49m\u001b[43m(\u001b[49m\u001b[43mt_outputs\u001b[49m\u001b[43m,\u001b[49m\u001b[43m \u001b[49m\u001b[43mgrad_outputs_\u001b[49m\u001b[43m,\u001b[49m\u001b[43m \u001b[49m\u001b[43mis_grads_batched\u001b[49m\u001b[38;5;241;43m=\u001b[39;49m\u001b[43mis_grads_batched\u001b[49m\u001b[43m)\u001b[49m\n\u001b[1;32m    287\u001b[0m \u001b[38;5;28;01mif\u001b[39;00m retain_graph \u001b[38;5;129;01mis\u001b[39;00m \u001b[38;5;28;01mNone\u001b[39;00m:\n\u001b[1;32m    288\u001b[0m     retain_graph \u001b[38;5;241m=\u001b[39m create_graph\n",
      "File \u001b[0;32m/groups/astuart/sotakao/miniconda3/envs/sda/lib/python3.9/site-packages/torch/autograd/__init__.py:85\u001b[0m, in \u001b[0;36m_make_grads\u001b[0;34m(outputs, grads, is_grads_batched)\u001b[0m\n\u001b[1;32m     83\u001b[0m \u001b[38;5;28;01mif\u001b[39;00m out\u001b[38;5;241m.\u001b[39mrequires_grad:\n\u001b[1;32m     84\u001b[0m     \u001b[38;5;28;01mif\u001b[39;00m out\u001b[38;5;241m.\u001b[39mnumel() \u001b[38;5;241m!=\u001b[39m \u001b[38;5;241m1\u001b[39m:\n\u001b[0;32m---> 85\u001b[0m         \u001b[38;5;28;01mraise\u001b[39;00m \u001b[38;5;167;01mRuntimeError\u001b[39;00m(\u001b[38;5;124m\"\u001b[39m\u001b[38;5;124mgrad can be implicitly created only for scalar outputs\u001b[39m\u001b[38;5;124m\"\u001b[39m)\n\u001b[1;32m     86\u001b[0m     new_grads\u001b[38;5;241m.\u001b[39mappend(torch\u001b[38;5;241m.\u001b[39mones_like(out, memory_format\u001b[38;5;241m=\u001b[39mtorch\u001b[38;5;241m.\u001b[39mpreserve_format))\n\u001b[1;32m     87\u001b[0m \u001b[38;5;28;01melse\u001b[39;00m:\n",
      "\u001b[0;31mRuntimeError\u001b[0m: grad can be implicitly created only for scalar outputs"
     ]
    }
   ],
   "source": [
    "score_scaled = lambda x, t, c: score(x/scale, t, c)\n",
    "\n",
    "guided_sde = ScaledVPSDE(\n",
    "                DPSGaussianScore(\n",
    "                    y,\n",
    "                    A=A,\n",
    "                    std=ARGS['obs_sigma'],\n",
    "                    sde=ScaledVPSDE(score_scaled, shape=(), scale=scale),\n",
    "                    gamma=1e-2,\n",
    "                    guidance_strength=0.1,\n",
    "                    scale=True,\n",
    "                ),\n",
    "                shape=y.shape,\n",
    "                scale=scale,\n",
    "            ).cuda()\n",
    "\n",
    "posterior_samples = guided_sde.sample((ARGS['n_ens'],),\n",
    "                                      steps=500,\n",
    "                                      corrections=0,\n",
    "                                      tau=0.5).cpu()"
   ]
  },
  {
   "cell_type": "code",
   "execution_count": 176,
   "id": "11e64645-faf4-42dc-9f04-a01f245a2c0a",
   "metadata": {},
   "outputs": [
    {
     "data": {
      "image/png": "[encoded data removed]",
      "text/plain": [
       "<Figure size 640x480 with 9 Axes>"
      ]
     },
     "metadata": {},
     "output_type": "display_data"
    }
   ],
   "source": [
    "rng = np.random.RandomState(42)\n",
    "idxs = rng.choice(ARGS['n_ens'], 3, replace=False)\n",
    "\n",
    "fig, axs = plt.subplots(3,3)\n",
    "for i in range(3):\n",
    "    axs[i,0].imshow(posterior_samples[idxs[i],0,0], vmin=scalefact*pv_truth.min(), vmax=scalefact*pv_truth.max())\n",
    "    axs[i,0].set_title(\"t=0\")\n",
    "    axs[i,0].set_ylabel(f\"Sample {idxs[i]}\")\n",
    "    axs[i,1].imshow(posterior_samples[idxs[i],2,0], vmin=scalefact*pv_truth.min(), vmax=scalefact*pv_truth.max())\n",
    "    axs[i,1].set_title(\"t=2\")\n",
    "    axs[i,2].imshow(posterior_samples[idxs[i],4,0], vmin=scalefact*pv_truth.min(), vmax=scalefact*pv_truth.max())\n",
    "    axs[i,2].set_title(\"t=4\")\n",
    "\n",
    "plt.tight_layout()"
   ]
  },
  {
   "cell_type": "code",
   "execution_count": 163,
   "id": "13cdc608-69a5-4d45-9382-a2e8df39e70f",
   "metadata": {},
   "outputs": [
    {
     "name": "stdout",
     "output_type": "stream",
     "text": [
      "rmse = 184.771\n"
     ]
    }
   ],
   "source": [
    "x_star = scalefact * pv_truth\n",
    "x_star = x_star.unsqueeze(0)\n",
    "err = x_star.cpu() - posterior_samples\n",
    "rmse = torch.mean(err**2)\n",
    "print(f\"rmse = {rmse:.3f}\")"
   ]
  },
  {
   "cell_type": "code",
   "execution_count": 164,
   "id": "26ff8625-8635-4cae-9062-fd7dff274212",
   "metadata": {},
   "outputs": [],
   "source": [
    "save_dir = \"/resnick/groups/astuart/sotakao/score-based-ensemble-filter/FlowDAS/experiments/sqg/data\"\n",
    "fname = f\"inital_ensembles_{ARGS['obs_fn']}_{ARGS['obs_sigma']}_{ARGS['obs_pct']}pct\"\n",
    "torch.save(posterior_samples, os.path.join(save_dir, fname))"
   ]
  },
  {
   "cell_type": "markdown",
   "id": "933e5550-802a-4a94-9884-e38842791b96",
   "metadata": {},
   "source": []
  }
 ],
 "metadata": {
  "kernelspec": {
   "display_name": "sda",
   "language": "python",
   "name": "sda"
  },
  "language_info": {
   "codemirror_mode": {
    "name": "ipython",
    "version": 3
   },
   "file_extension": ".py",
   "mimetype": "text/x-python",
   "name": "python",
   "nbconvert_exporter": "python",
   "pygments_lexer": "ipython3",
   "version": "3.9.16"
  }
 },
 "nbformat": 4,
 "nbformat_minor": 5
}
